{
 "cells": [
  {
   "cell_type": "markdown",
   "metadata": {},
   "source": [
    "GeekCoding101.com - Python Exercise\n",
    "---\n",
    "\n",
    "Table of Contents\n",
    "=================\n",
    "\n",
    "  * [Questions](#questions)\n",
    "    * [Create a list of list](#create-a-list-of-list)\n",
    "    * [Count freq of elements in an array](#count-freq-of-elements-in-dict)\n",
    "    * [Construct hashmap from list in one line](#construct-hashmap-from-list-in-one-line)\n",
    "    * [Flatten list of list](#flatten-list-of-list)\n",
    "    * [Convert String to List](#convert-string-to-list)\n",
    "    * [Convert List to String](#convert-list-to-string)\n",
    "  * [Answers](#answers)\n",
    "    * [Create a list of list Answer](#create-a-list-of-list-answer)\n",
    "    * [Count freq of elements in an array Answer](#count-freq-of-elements-in-an-array-answer)\n",
    "    * [Construct hashmap from list in one line Answer](#construct-hashmap-from-list-in-one-line-answer)\n",
    "    * [Flatten list of list Answer](#flatten-list-of-list-answer)\n",
    "    * [Convert String to List Answer](#convert-string-to-list-answer)\n",
    "    * [Convert List to String Answer](#convert-list-to-string-answer)"
   ]
  },
  {
   "cell_type": "markdown",
   "metadata": {},
   "source": [
    "# Questions"
   ]
  },
  {
   "cell_type": "markdown",
   "metadata": {},
   "source": [
    "## Create a list of list\n",
    "\n",
    "[answer](#create-a-list-of-list-answer)"
   ]
  },
  {
   "cell_type": "code",
   "execution_count": null,
   "metadata": {},
   "outputs": [],
   "source": [
    "length = 10\n",
    "# Create a list of list size 10\n",
    "# Expect: [[], [], [], [], [], [], [], [], [], []]"
   ]
  },
  {
   "cell_type": "markdown",
   "metadata": {},
   "source": [
    "## Count freq of elements in dict\n",
    "\n",
    "[answer](#count-freq-of-elements-in-an-array-answer)"
   ]
  },
  {
   "cell_type": "code",
   "execution_count": 13,
   "metadata": {},
   "outputs": [
    {
     "name": "stdout",
     "output_type": "stream",
     "text": [
      "[10, 3, 10, 4, 5, 1, 3, 10, 7, 9, 9, 10, 8, 3, 10, 5, 9, 5, 3, 9]\n"
     ]
    }
   ],
   "source": [
    "import random\n",
    "\n",
    "# We might have duplicates in generated list from generate_random_integers\n",
    "generate_random_integers = lambda n: [random.randint(1, 10) for _ in range(n)]\n",
    "set1 = generate_random_integers(10)\n",
    "# When we generate a new set of random integers and add them to the set1, we must duplicates\n",
    "set1.extend(generate_random_integers(10))\n",
    "\n",
    "print(set1)\n",
    "\n",
    "# TODO: Cound the frequency of each number in the list using dict.get, not using Counter\n",
    "# For example, if the list is [1, 2, 1], the output should be {1: 2, 2: 1}"
   ]
  },
  {
   "cell_type": "code",
   "execution_count": null,
   "metadata": {},
   "outputs": [
    {
     "name": "stdout",
     "output_type": "stream",
     "text": [
      "[10, 3, 10, 4, 5, 1, 3, 10, 7, 9, 9, 10, 8, 3, 10, 5, 9, 5, 3, 9]\n"
     ]
    }
   ],
   "source": [
    "import random\n",
    "\n",
    "# We might have duplicates in generated list from generate_random_integers\n",
    "generate_random_integers = lambda n: [random.randint(1, 10) for _ in range(n)]\n",
    "set1 = generate_random_integers(10)\n",
    "# When we generate a new set of random integers and add them to the set1, we must duplicates\n",
    "set1.extend(generate_random_integers(10))\n",
    "\n",
    "print(set1)\n",
    "\n",
    "# TODO: Cound the frequency of each number in the list using dict.get, not using Counter\n",
    "# For example, if the list is [1, 2, 1], the output should be {1: 2, 2: 1}"
   ]
  },
  {
   "cell_type": "markdown",
   "metadata": {},
   "source": [
    "## Construct hashmap from list in one line\n",
    "\n",
    "For instance:\n",
    "\n",
    "```\n",
    "[3, 2, 4] will be:\n",
    "\n",
    "{\n",
    "    \"3\": 0,\n",
    "    \"2\": 1,\n",
    "    \"4\": 2\n",
    "}\n",
    "```\n",
    "\n",
    "[answer](#construct-hashmap-from-list-in-one-line-answer)"
   ]
  },
  {
   "cell_type": "markdown",
   "metadata": {},
   "source": [
    "## Flatten list of list\n",
    "\n",
    "[answer](#flatten-list-of-list-answer)\n",
    "\n",
    "74. Search a 2D Matrix\n",
    "\n",
    "[Leetcode link](https://leetcode.com/problems/search-a-2d-matrix/description/), [Neetcode link](https://neetcode.io/problems/search-2d-matrix)"
   ]
  },
  {
   "cell_type": "code",
   "execution_count": 2,
   "metadata": {},
   "outputs": [
    {
     "name": "stdout",
     "output_type": "stream",
     "text": [
      "[1, 2, 3, 4, 5, 6, 7, 8, 9]\n",
      "[1, 2, 3, 4, 5, 6, 7, 8, 9]\n"
     ]
    }
   ],
   "source": [
    "matrix = [[1, 2, 3], [4, 5, 6], [7, 8, 9]]\n",
    "# List comprehension\n",
    "flattened = \n",
    "print(flattened)  # Output: [1, 2, 3, 4, 5, 6, 7, 8, 9]\n",
    "\n",
    "from functools import reduce\n",
    "list_of_lists = [[1, 2, 3], [4, 5, 6], [7, 8, 9]]\n",
    "flattened = \n",
    "print(flattened)  "
   ]
  },
  {
   "cell_type": "code",
   "execution_count": null,
   "metadata": {},
   "outputs": [
    {
     "name": "stdout",
     "output_type": "stream",
     "text": [
      "[1, 2, 3, 4, 5, 6, 7, 8, 9]\n",
      "[1, 2, 3, 4, 5, 6, 7, 8, 9]\n"
     ]
    }
   ],
   "source": [
    "matrix = [[1, 2, 3], [4, 5, 6], [7, 8, 9]]\n",
    "# List comprehension\n",
    "flattened = \n",
    "print(flattened)  # Output: [1, 2, 3, 4, 5, 6, 7, 8, 9]\n",
    "\n",
    "from functools import reduce\n",
    "list_of_lists = [[1, 2, 3], [4, 5, 6], [7, 8, 9]]\n",
    "flattened = \n",
    "print(flattened)  "
   ]
  },
  {
   "cell_type": "markdown",
   "metadata": {},
   "source": [
    "## Convert String to List\n",
    "\n",
    "1. Use `split()` to convert a string to a list based on a delimiter.\n",
    "1. Use `list comprehension` or `list()` to convert a string to a list of characters.\n",
    "1. Use `ast.literal_eval()` to convert a string representation of a list to an actual list."
   ]
  },
  {
   "cell_type": "code",
   "execution_count": 5,
   "metadata": {},
   "outputs": [
    {
     "name": "stdout",
     "output_type": "stream",
     "text": [
      "['apple', 'banana', 'cherry']\n",
      "['a', 'p', 'p', 'l', 'e']\n",
      "['a', 'p', 'p', 'l', 'e']\n"
     ]
    }
   ],
   "source": [
    "# String -> List\n",
    "# 1. Use split() to convert a string to a list based on a delimiter.\n",
    "test_str01 = \"apple banana cherry\"\n",
    "\n",
    "# Convert string to list using split()\n",
    "result01 = \n",
    "print(result01)  # Output: ['apple', 'banana', 'cherry']\n",
    "\n",
    "# 2. Use list comprehension\n",
    "print(\"\\nString to List:\")\n",
    "test_str02 = \"apple\"\n",
    "result02 = \n",
    "print(result02)  # Output: ['a', 'p', 'p', 'l', 'e']\n",
    "\n",
    "# 3. Use list() to convert a string to a list of characters.\n",
    "result02 = \n",
    "print(result02)\n",
    "print(len(result02))\n",
    "print(len(test_str01))"
   ]
  },
  {
   "cell_type": "code",
   "execution_count": null,
   "metadata": {},
   "outputs": [],
   "source": [
    "# String -> List\n",
    "# 1. Use split() to convert a string to a list based on a delimiter.\n",
    "test_str01 = \"apple banana cherry\"\n",
    "\n",
    "# Convert string to list using split()\n",
    "result01 = \n",
    "print(result01)  # Output: ['apple', 'banana', 'cherry']\n",
    "\n",
    "# 2. Use list comprehension\n",
    "print(\"\\nString to List:\")\n",
    "test_str02 = \"apple\"\n",
    "result02 = \n",
    "print(result02)  # Output: ['a', 'p', 'p', 'l', 'e']\n",
    "\n",
    "# 3. Use list() to convert a string to a list of characters.\n",
    "result02 = \n",
    "print(result02)\n",
    "print(len(result02))\n",
    "print(len(test_str01))"
   ]
  },
  {
   "cell_type": "markdown",
   "metadata": {},
   "source": [
    "## Convert List to String"
   ]
  },
  {
   "cell_type": "code",
   "execution_count": 7,
   "metadata": {},
   "outputs": [
    {
     "name": "stdout",
     "output_type": "stream",
     "text": [
      "List to String:\n",
      "apple banana cherry\n",
      "1 2 3 apple banana\n",
      "1 2 3 apple banana\n"
     ]
    }
   ],
   "source": [
    "# List   -> String\n",
    "print(\"List to String:\")\n",
    "# 1. Use str.join() for a clean concatenation of list elements into a string.\n",
    "list_of_strings = [\"apple\", \"banana\", \"cherry\"]\n",
    "\n",
    "# Convert list to string with space as delimiter\n",
    "result = \n",
    "print(result)  # Output: \"apple banana cherry\"\n",
    "\n",
    "# 2. Use map(str, list) if the list contains non-string elements.\n",
    "# List with mixed types\n",
    "list_of_mixed = [1, 2, 3, \"apple\", \"banana\"]\n",
    "\n",
    "# Convert all elements to strings and join them with a space\n",
    "result =\n",
    "print(result)  # Output: \"1 2 3 apple banana\"\n",
    "\n",
    "# 3. Use str() if you need a string representation of the list including brackets and commas.\n",
    "# List with mixed types\n",
    "list_of_mixed02 = [1, 2, 3, \"apple\", \"banana\"]\n",
    "\n",
    "# Convert all elements to strings and join them with a space\n",
    "result = \n",
    "print(result)  # Output: \"1 2 3 apple banana\""
   ]
  },
  {
   "cell_type": "code",
   "execution_count": null,
   "metadata": {},
   "outputs": [],
   "source": [
    "# List   -> String\n",
    "print(\"List to String:\")\n",
    "# 1. Use str.join() for a clean concatenation of list elements into a string.\n",
    "list_of_strings = [\"apple\", \"banana\", \"cherry\"]\n",
    "\n",
    "# Convert list to string with space as delimiter\n",
    "result = \n",
    "print(result)  # Output: \"apple banana cherry\"\n",
    "\n",
    "# 2. Use map(str, list) if the list contains non-string elements.\n",
    "# List with mixed types\n",
    "list_of_mixed = [1, 2, 3, \"apple\", \"banana\"]\n",
    "\n",
    "# Convert all elements to strings and join them with a space\n",
    "result =\n",
    "print(result)  # Output: \"1 2 3 apple banana\"\n",
    "\n",
    "# 3. Use str() if you need a string representation of the list including brackets and commas.\n",
    "# List with mixed types\n",
    "list_of_mixed02 = [1, 2, 3, \"apple\", \"banana\"]\n",
    "\n",
    "# Convert all elements to strings and join them with a space\n",
    "result = \n",
    "print(result)  # Output: \"1 2 3 apple banana\""
   ]
  },
  {
   "cell_type": "markdown",
   "metadata": {},
   "source": [
    "# Answers"
   ]
  },
  {
   "cell_type": "markdown",
   "metadata": {},
   "source": [
    "# Create a list of list Answer\n"
   ]
  },
  {
   "cell_type": "code",
   "execution_count": 1,
   "metadata": {},
   "outputs": [
    {
     "name": "stdout",
     "output_type": "stream",
     "text": [
      "[[], [], [], [], [], [], [], [], [], []]\n"
     ]
    }
   ],
   "source": [
    "nums = [1, 2, 3, 4, 5, 6, 7, 8, 9, 10]\n",
    "ll = [[] for _ in range(len(nums))]\n",
    "print(ll)"
   ]
  },
  {
   "cell_type": "markdown",
   "metadata": {},
   "source": [
    "## Count freq of elements in an array Answer"
   ]
  },
  {
   "cell_type": "code",
   "execution_count": 1,
   "metadata": {},
   "outputs": [
    {
     "name": "stdout",
     "output_type": "stream",
     "text": [
      "[4, 6, 1, 1, 2, 9, 3, 10, 10, 8, 9, 4, 1, 5, 4, 8, 4, 6, 2, 4]\n",
      "{4: 5, 6: 2, 1: 3, 2: 2, 9: 2, 3: 1, 10: 2, 8: 2, 5: 1}\n",
      "Counter({4: 5, 1: 3, 6: 2, 2: 2, 9: 2, 10: 2, 8: 2, 3: 1, 5: 1})\n"
     ]
    }
   ],
   "source": [
    "import random\n",
    "\n",
    "# We might have duplicates in generated list from generate_random_integers\n",
    "generate_random_integers = lambda n: [random.randint(1, 10) for _ in range(n)]\n",
    "set1 = generate_random_integers(10)\n",
    "# When we generate a new set of random integers and add them to the set1, we must duplicates\n",
    "set1.extend(generate_random_integers(10))\n",
    "\n",
    "print(set1)\n",
    "\n",
    "# Solution 1:\n",
    "# Count the frequency of each number in the list using dict.get, not using Counter\n",
    "freq_dict = {}\n",
    "for num in set1:\n",
    "    freq_dict[num] = freq_dict.get(num, 0) + 1\n",
    "print(freq_dict)\n",
    "\n",
    "\n",
    "# Solution 2:\n",
    "from collections import Counter\n",
    "freq_dict = Counter(set1)\n",
    "print(freq_dict)"
   ]
  },
  {
   "cell_type": "markdown",
   "metadata": {},
   "source": [
    "## Construct hashmap from list in one line Answer\n",
    "\n"
   ]
  },
  {
   "cell_type": "code",
   "execution_count": 1,
   "metadata": {},
   "outputs": [
    {
     "name": "stdout",
     "output_type": "stream",
     "text": [
      "input:[0, 1, 2, 3, 4, 5, 6, 7, 8, 9]\n",
      "dict:{0: 0, 1: 1, 2: 2, 3: 3, 4: 4, 5: 5, 6: 6, 7: 7, 8: 8, 9: 9}\n"
     ]
    }
   ],
   "source": [
    "import random\n",
    "\n",
    "input = [x for x in range(10)]\n",
    "print(f\"input:{input}\")\n",
    "\n",
    "\n",
    "dict = {k:v for k, v in enumerate(input)}\n",
    "print(f\"dict:{dict}\")"
   ]
  },
  {
   "cell_type": "markdown",
   "metadata": {},
   "source": [
    "## Flatten list of list Answer\n",
    "\n",
    "74. Search a 2D Matrix\n",
    "\n",
    "[Leetcode link](https://leetcode.com/problems/search-a-2d-matrix/description/)\n",
    "\n",
    "[Neetcode link](https://neetcode.io/problems/search-2d-matrix)"
   ]
  },
  {
   "cell_type": "code",
   "execution_count": null,
   "metadata": {},
   "outputs": [],
   "source": [
    "matrix = [[1, 2, 3], [4, 5, 6], [7, 8, 9]]\n",
    "flattened = [x for row in matrix for x in row]\n",
    "print(flattened)  # Output: [1, 2, 3, 4, 5, 6, 7, 8, 9]\n",
    "\n",
    "# You can also use reduce:\n",
    "from functools import reduce\n",
    "list_of_lists = [[1, 2, 3], [4, 5, 6], [7, 8, 9]]\n",
    "flattened = reduce(lambda x, y: x + y, list_of_lists)\n",
    "print(flattened)  # Output: [1, 2, 3, 4, 5, 6]"
   ]
  },
  {
   "cell_type": "markdown",
   "metadata": {},
   "source": [
    "## Convert String to List Answer\n",
    "\n",
    "1. Use `split()` to convert a string to a list based on a delimiter.\n",
    "1. Use `list comprehension` or `list()` to convert a string to a list of characters.\n",
    "1. Use `ast.literal_eval()` to convert a string representation of a list to an actual list."
   ]
  },
  {
   "cell_type": "code",
   "execution_count": null,
   "metadata": {},
   "outputs": [],
   "source": [
    "# String -> List\n",
    "# 1. Use split() to convert a string to a list based on a delimiter.\n",
    "test_str01 = \"apple banana cherry\"\n",
    "\n",
    "# Convert string to list using split()\n",
    "result01 = test_str01.split()\n",
    "print(result01)  # Output: ['apple', 'banana', 'cherry']\n",
    "\n",
    "# 2. Use list comprehension\n",
    "print(\"\\nString to List:\")\n",
    "test_str02 = \"apple\"\n",
    "result02 = [char for char in test_str02]\n",
    "print(result02)  # Output: ['a', 'p', 'p', 'l', 'e']\n",
    "\n",
    "# 3. Use list() to convert a string to a list of characters.\n",
    "result02 = list(test_str02)\n",
    "print(result02)\n",
    "print(len(result02))\n",
    "print(len(test_str01))"
   ]
  },
  {
   "cell_type": "markdown",
   "metadata": {},
   "source": [
    "## Convert List to String Answer"
   ]
  },
  {
   "cell_type": "code",
   "execution_count": null,
   "metadata": {},
   "outputs": [],
   "source": [
    "# List   -> String\n",
    "print(\"List to String:\")\n",
    "# 1. Use str.join() for a clean concatenation of list elements into a string.\n",
    "list_of_strings = [\"apple\", \"banana\", \"cherry\"]\n",
    "\n",
    "# Convert list to string with space as delimiter\n",
    "result = \" \".join(list_of_strings)\n",
    "print(result)  # Output: \"apple banana cherry\"\n",
    "\n",
    "# 2. Use map(str, list) if the list contains non-string elements.\n",
    "# List with mixed types\n",
    "list_of_mixed = [1, 2, 3, \"apple\", \"banana\"]\n",
    "\n",
    "# Convert all elements to strings and join them with a space\n",
    "result = \" \".join(map(str, list_of_mixed))\n",
    "print(result)  # Output: \"1 2 3 apple banana\"\n",
    "\n",
    "# 3. Use str() if you need a string representation of the list including brackets and commas.\n",
    "# List with mixed types\n",
    "list_of_mixed02 = [1, 2, 3, \"apple\", \"banana\"]\n",
    "\n",
    "# Convert all elements to strings and join them with a space\n",
    "result = \" \".join([str(element) for element in list_of_mixed02])\n",
    "print(result)  # Output: \"1 2 3 apple banana\""
   ]
  }
 ],
 "metadata": {
  "kernelspec": {
   "display_name": "pythonplayground",
   "language": "python",
   "name": "python3"
  },
  "language_info": {
   "codemirror_mode": {
    "name": "ipython",
    "version": 3
   },
   "file_extension": ".py",
   "mimetype": "text/x-python",
   "name": "python",
   "nbconvert_exporter": "python",
   "pygments_lexer": "ipython3",
   "version": "3.12.4"
  }
 },
 "nbformat": 4,
 "nbformat_minor": 2
}
