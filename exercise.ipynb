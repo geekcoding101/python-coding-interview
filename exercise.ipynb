{
 "cells": [
  {
   "cell_type": "markdown",
   "metadata": {},
   "source": [
    "GeekCoding101.com - Python Exercise\n",
    "---\n",
    "\n",
    "Table of Contents\n",
    "=================\n",
    "\n",
    "  * [Questions](#questions)\n",
    "    * [Create a list of list](#create-a-list-of-list)\n",
    "    * [Count freq of elements in an array](#count-freq-of-elements-in-dict)\n",
    "  * [Answers](#answers)\n",
    "    * [Create a list of list Answer](#create-a-list-of-list-answer)\n",
    "    * [Count freq of elements in an array Answer](#count-freq-of-elements-in-an-array-answer)"
   ]
  },
  {
   "cell_type": "markdown",
   "metadata": {},
   "source": [
    "# Questions"
   ]
  },
  {
   "cell_type": "markdown",
   "metadata": {},
   "source": [
    "## Create a list of list\n",
    "\n",
    "[answer](#create-a-list-of-list-answer)"
   ]
  },
  {
   "cell_type": "code",
   "execution_count": null,
   "metadata": {},
   "outputs": [],
   "source": [
    "length = 10\n",
    "# Create a list of list size 10"
   ]
  },
  {
   "cell_type": "markdown",
   "metadata": {},
   "source": [
    "## Count freq of elements in dict\n",
    "\n",
    "[answer](#count-freq-of-elements-in-an-array-answer)"
   ]
  },
  {
   "cell_type": "code",
   "execution_count": 13,
   "metadata": {},
   "outputs": [
    {
     "name": "stdout",
     "output_type": "stream",
     "text": [
      "[10, 3, 10, 4, 5, 1, 3, 10, 7, 9, 9, 10, 8, 3, 10, 5, 9, 5, 3, 9]\n"
     ]
    }
   ],
   "source": [
    "import random\n",
    "\n",
    "# We might have duplicates in generated list from generate_random_integers\n",
    "generate_random_integers = lambda n: [random.randint(1, 10) for _ in range(n)]\n",
    "set1 = generate_random_integers(10)\n",
    "# When we generate a new set of random integers and add them to the set1, we must duplicates\n",
    "set1.extend(generate_random_integers(10))\n",
    "\n",
    "print(set1)\n",
    "\n",
    "# TODO: Cound the frequency of each number in the list using dict.get, not using Counter"
   ]
  },
  {
   "cell_type": "markdown",
   "metadata": {},
   "source": [
    "# Answers"
   ]
  },
  {
   "cell_type": "markdown",
   "metadata": {},
   "source": [
    "# Create a list of list Answer\n"
   ]
  },
  {
   "cell_type": "code",
   "execution_count": 1,
   "metadata": {},
   "outputs": [
    {
     "name": "stdout",
     "output_type": "stream",
     "text": [
      "[[], [], [], [], [], [], [], [], [], []]\n"
     ]
    }
   ],
   "source": [
    "nums = [1, 2, 3, 4, 5, 6, 7, 8, 9, 10]\n",
    "ll = [[] for _ in range(len(nums))]\n",
    "print(ll)"
   ]
  },
  {
   "cell_type": "markdown",
   "metadata": {},
   "source": [
    "## Count freq of elements in an array Answer"
   ]
  },
  {
   "cell_type": "code",
   "execution_count": 12,
   "metadata": {},
   "outputs": [
    {
     "name": "stdout",
     "output_type": "stream",
     "text": [
      "[1, 5, 10, 1, 3, 6, 9, 8, 7, 7, 2, 9, 1, 10, 2, 6, 1, 7, 7, 9]\n",
      "{1: 4, 5: 1, 10: 2, 3: 1, 6: 2, 9: 3, 8: 1, 7: 4, 2: 2}\n",
      "{1: 4, 5: 1, 10: 2, 3: 1, 6: 2, 9: 3, 8: 1, 7: 4, 2: 2}\n"
     ]
    }
   ],
   "source": [
    "import random\n",
    "\n",
    "# We might have duplicates in generated list from generate_random_integers\n",
    "generate_random_integers = lambda n: [random.randint(1, 10) for _ in range(n)]\n",
    "set1 = generate_random_integers(10)\n",
    "# When we generate a new set of random integers and add them to the set1, we must duplicates\n",
    "set1.extend(generate_random_integers(10))\n",
    "\n",
    "print(set1)\n",
    "\n",
    "# Cound the frequency of each number in the list using dict.get, not using Counter\n",
    "freq_dict = {}\n",
    "for num in set1:\n",
    "    freq_dict[num] = freq_dict.get(num, 0) + 1\n",
    "print(freq_dict)\n",
    "\n",
    "\n"
   ]
  }
 ],
 "metadata": {
  "kernelspec": {
   "display_name": "pythonplayground",
   "language": "python",
   "name": "python3"
  },
  "language_info": {
   "codemirror_mode": {
    "name": "ipython",
    "version": 3
   },
   "file_extension": ".py",
   "mimetype": "text/x-python",
   "name": "python",
   "nbconvert_exporter": "python",
   "pygments_lexer": "ipython3",
   "version": "3.12.4"
  }
 },
 "nbformat": 4,
 "nbformat_minor": 2
}
