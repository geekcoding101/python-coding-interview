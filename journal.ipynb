{
 "cells": [
  {
   "cell_type": "markdown",
   "metadata": {},
   "source": [
    "GeekCoding101.com - Python Journal\n",
    "---\n",
    "\n",
    "Table of Contents\n",
    "=================\n",
    "\n",
    "  * [Quick Checkpoints During An Interview](#quick-checkpoints-during-an-interview)\n",
    "  * [General Notes](#general-notes)\n",
    "    * [Usage of range()](#usage-of-range)\n",
    "  * [Creation of Advanced Type and General Conversion](#creation-of-advanced-type-and-general-conversion)\n",
    "    * [List -> String](#list---string)\n",
    "    * [String -> List](#string---list)\n",
    "    * [Creation of List\\[List\\[str\\]\\]](#creation-of-listliststr)\n",
    "  * [Advanced Notes](#advanced-notes)\n",
    "    * [Dictionary](#dictionary)\n",
    "      * [Dict Commmon usage](#dict-common-usage)\n",
    "      * [Iteration](#iteration)\n",
    "      * [Emptiness check](#emptiness-check)\n",
    "      * [Mutable objects cannot be used as dictionary keys because they are not hashable](#mutable-objects-cannot-be-used-as-dictionary-keys-because-they-are-not-hashable)\n",
    "      * [Can I use 'in' to check membership if I put a custom person object into a map?](#can-i-use-in-to-check-membership-if-i-put-a-custom-person-object-into-a-map)\n",
    "    * [List](#list)\n",
    "      * [Initialize list before accessing it if not using append or defaultdict](#initialize-list-before-accessing-it-if-not-using-append-or-defaultdict)\n",
    "    * [Types from collections](#types-from-collections)\n",
    "      * [namedtuple](#namedtuple)\n",
    "      * [defaultdict](#defaultdict)\n",
    "      * [OrderedDict](#ordereddict)\n",
    "      * [deque](#deque)\n",
    "      * [Counter](#counter)\n",
    "      * [ChainMap](#chainmap)\n",
    "  * [Code Snippets](#code-snippets)\n",
    "    * [Enumerate](#enumerate)\n",
    "    * [Sort String](#sort-string)\n",
    "    * [Generator](#generator)\n",
    "    * [Iterator](#iterator)\n",
    "  * [Algorithm/Methodologies Relevant Notes](#algorithmmethodologies-relevant-notes)\n",
    "    * [Two Pointers](#two-pointers)\n",
    "  * [Easy](#easy)\n",
    "    * 1-05262024-[(Hashmap) Two Sum](#two-sum)\n",
    "    * 2-05262024-[(Two Pointer) Is Palindrome](#is-palindrome)\n",
    "    * 3-05262024-[(Hashmap) Is Anagram](#is-anagram)\n",
    "    * 4-05262024-[(Stack) Validate Parentheses](#validate-parentheses)\n",
    "    * 5-05262024-[Duplicate integer](#duplicate-integer)\n",
    "    * 6-05272024-[(Bit) Single Number](#bit-single-number)\n",
    "    * 7-05272024-[(Bit) Number of 1 Bits](#bit-number-of-1-bits)\n",
    "    * 8-05272024-[(Bit)(DP) Counting Bits](#bitdp-counting-bits)\n",
    "  * [Medium](#medium)\n",
    "    * 9-05272024-[(List)(Tuple)(defaultdict) Group Anagrams](#listtupledefaultdict-group-anagrams)\n",
    "    * 10-05272024-[(List[List])(Bucket Sort) Top K Elements in List](#top-k-elements-in-list)\n",
    "  * [Difficult](#difficult)\n",
    "  * [Quick References](#quick-references)\n",
    "  * [Links](#links)\n",
    "  * [Q/A](#qa)\n",
    "  * [Appendix](#appendix)\n"
   ]
  },
  {
   "cell_type": "markdown",
   "metadata": {},
   "source": [
    "# Quick Checkpoints During An Interview\n",
    "\n",
    "1. Remember to **add self** into function signature if in a class\n",
    "2. Remember to **add colon** after control flow keywords\n",
    "3. Add `()` if cross multiple line with multiple condidtion by using `or`, `and`\n",
    "4. Check: \n",
    "   * case sensitive or insensitive\n",
    "   * `<` and `>`\n",
    "   * return type\n",
    "5. Ensure spelling: `elif`, `variable name`, `True` and `False`\n",
    "6. Simplify the code when returning bool\n",
    "7. Avoid `else` if not needed\n",
    "8. This is a wrong usage: `return False if len(s) != len(t)` You must have `else`.\n",
    "   Alternatively, `if len(s) != len(t): return False`\n"
   ]
  },
  {
   "cell_type": "markdown",
   "metadata": {},
   "source": [
    "# General Notes\n",
    "\n",
    "## Usage of range()\n",
    "\n",
    "```\n",
    "range(stop)\n",
    "range(start, stop)\n",
    "range(start, stop, step)\n",
    "```"
   ]
  },
  {
   "cell_type": "markdown",
   "metadata": {},
   "source": [
    "# Creation of Advanced Type and General Conversion\n",
    "\n",
    "## List -> String\n",
    "\n",
    "1. Use `str.join()` for a clean concatenation of list elements into a string.\n",
    "1. Use `map(str, list)` if the list contains non-string elements.\n",
    "1. Use `str()` if you need a string representation of the list including brackets and commas.\n",
    "\n",
    "## String -> List\n",
    "\n",
    "1. Use `split()` to convert a string to a list based on a delimiter.\n",
    "1. Use `list comprehension` or `list()` to convert a string to a list of characters.\n",
    "1. Use `ast.literal_eval()` to convert a string representation of a list to an actual list."
   ]
  },
  {
   "cell_type": "code",
   "execution_count": 1,
   "metadata": {},
   "outputs": [
    {
     "name": "stdout",
     "output_type": "stream",
     "text": [
      "List to String:\n",
      "apple banana cherry\n",
      "1 2 3 apple banana\n",
      "1 2 3 apple banana\n"
     ]
    }
   ],
   "source": [
    "# List   -> String\n",
    "print(\"List to String:\")\n",
    "# 1. Use str.join() for a clean concatenation of list elements into a string.\n",
    "list_of_strings = [\"apple\", \"banana\", \"cherry\"]\n",
    "\n",
    "# Convert list to string with space as delimiter\n",
    "result = \" \".join(list_of_strings)\n",
    "print(result)  # Output: \"apple banana cherry\"\n",
    "# 2. Use map(str, list) if the list contains non-string elements.\n",
    "# List with mixed types\n",
    "list_of_mixed = [1, 2, 3, \"apple\", \"banana\"]\n",
    "\n",
    "# Convert all elements to strings and join them with a space\n",
    "result = \" \".join(map(str, list_of_mixed))\n",
    "print(result)  # Output: \"1 2 3 apple banana\"\n",
    "# 3. Use str() if you need a string representation of the list including brackets and commas.\n",
    "# List with mixed types\n",
    "list_of_mixed02 = [1, 2, 3, \"apple\", \"banana\"]\n",
    "\n",
    "# Convert all elements to strings and join them with a space\n",
    "result = \" \".join([str(element) for element in list_of_mixed02])\n",
    "print(result)  # Output: \"1 2 3 apple banana\""
   ]
  },
  {
   "cell_type": "code",
   "execution_count": 2,
   "metadata": {},
   "outputs": [
    {
     "name": "stdout",
     "output_type": "stream",
     "text": [
      "['apple', 'banana', 'cherry']\n",
      "\n",
      "String to List:\n",
      "['a', 'p', 'p', 'l', 'e']\n",
      "['a', 'p', 'p', 'l', 'e']\n"
     ]
    }
   ],
   "source": [
    "# String -> List\n",
    "# 1. Use split() to convert a string to a list based on a delimiter.\n",
    "test_str01 = \"apple banana cherry\"\n",
    "\n",
    "# Convert string to list using split()\n",
    "result01 = test_str01.split()\n",
    "print(result01)  # Output: ['apple', 'banana', 'cherry']\n",
    "\n",
    "# 2. Use list comprehension\n",
    "print(\"\\nString to List:\")\n",
    "test_str02 = \"apple\"\n",
    "result02 = [char for char in test_str02]\n",
    "print(result02)  # Output: ['a', 'p', 'p', 'l', 'e']\n",
    "\n",
    "# 3. Use list() to convert a string to a list of characters.\n",
    "result02 = list(test_str02)\n",
    "print(result02)"
   ]
  },
  {
   "cell_type": "markdown",
   "metadata": {},
   "source": [
    "### Creation of List[List[str]]\n",
    "\n",
    "**Aproach 1:**\n",
    "\n",
    "```\n",
    "ans = defaultdict(list)\n",
    "return list(ans.values())\n",
    "```\n",
    "\n",
    "Refer to [Group Anagrams](#listtupledefaultdict-group-anagrams)\n",
    "\n",
    "**Aproach 2:**\n",
    "\n",
    "```\n",
    "freq = [[] for i in range(len(nums) + 1)]\n",
    "```\n",
    "\n",
    "Refer to [Top K elements in list](#top-k-elements-in-list)"
   ]
  },
  {
   "cell_type": "markdown",
   "metadata": {},
   "source": [
    "# Advanced Notes\n",
    "\n",
    "## Dictionary\n",
    "\n",
    "### Dict Common Usage\n",
    "\n",
    "| Method                | Description                                                                                          | Sample Code                                                                                                        |\n",
    "|-----------------------|------------------------------------------------------------------------------------------------------|--------------------------------------------------------------------------------------------------------------------|\n",
    "| `dict[key]`           | Accesses the value associated with the specified key.                                                | `my_dict = {'a': 1, 'b': 2}`<br>`value = my_dict['a']`<br>`print(value)`  # Output: 1                           |\n",
    "| `dict[key] = value`   | Sets the value associated with the specified key.                                                     | `my_dict = {'a': 1, 'b': 2}`<br>`my_dict['c'] = 3`<br>`print(my_dict)`  # Output: {'a': 1, 'b': 2, 'c': 3}      |\n",
    "| `del dict[key]`       | Removes the entry with the specified key.                                                             | `my_dict = {'a': 1, 'b': 2}`<br>`del my_dict['a']`<br>`print(my_dict)`  # Output: {'b': 2}                        |\n",
    "| `dict.keys()`         | Returns a view object that displays a list of all the keys in the dictionary.                         | `my_dict = {'a': 1, 'b': 2}`<br>`keys = my_dict.keys()`<br>`print(keys)`  # Output: dict_keys(['a', 'b'])         |\n",
    "| `dict.values()`       | Returns a view object that displays a list of all the values in the dictionary.                       | `my_dict = {'a': 1, 'b': 2}`<br>`values = my_dict.values()`<br>`print(values)`  # Output: dict_values([1, 2])     |\n",
    "| `dict.items()`        | Returns a view object that displays a list of key-value tuple pairs in the dictionary.                | `my_dict = {'a': 1, 'b': 2}`<br>`items = my_dict.items()`<br>`print(items)`  # Output: dict_items([('a', 1), ('b', 2)]) |\n",
    "| `dict.get(key, default=None)` | Returns the value associated with the specified key, or a default value if the key does not exist. | `my_dict = {'a': 1, 'b': 2}`<br>`value = my_dict.get('c', 0)`<br>`print(value)`  # Output: 0                   |\n",
    "| `dict.pop(key, default=None)` | Removes the entry with the specified key and returns its value. If the key is not found, returns the default value. | `my_dict = {'a': 1, 'b': 2}`<br>`value = my_dict.pop('a', 0)`<br>`print(value)`  # Output: 1                  |\n",
    "| `dict.popitem()`      | Removes and returns an arbitrary key-value pair from the dictionary.                                    | `my_dict = {'a': 1, 'b': 2}`<br>`item = my_dict.popitem()`<br>`print(item)`  # Output: ('b', 2)                  |\n",
    "| `dict.clear()`        | Removes all key-value pairs from the dictionary.                                                      | `my_dict = {'a': 1, 'b': 2}`<br>`my_dict.clear()`<br>`print(my_dict)`  # Output: {}                                |\n",
    "| `len(dict)`           | Returns the number of items (key-value pairs) in the dictionary.                                        | `my_dict = {'a': 1, 'b': 2}`<br>`length = len(my_dict)`<br>`print(length)`  # Output: 2                            |\n",
    "| `key in dict`         | Checks if the dictionary contains the specified key.                                                   | `my_dict = {'a': 1, 'b': 2}`<br>`if 'a' in my_dict:`<br>&nbsp;&nbsp;&nbsp;&nbsp;`print(\"Key found\")`                |\n",
    "\n",
    "### Iteration\n",
    "\n",
    "```\n",
    "student_grades = {'Alice': 85, 'Bob': 90, 'Charlie': 78}\n",
    "# Iterate over all key-value pairs\n",
    "for name, grade in student_grades.items():\n",
    "    print(f\"{name}: {grade}\")\n",
    "```\n",
    "\n",
    "### Emptiness check\n",
    "\n",
    "Looks like there's no dict.empty() method exists like Java.\n",
    "\n",
    "**Approach 1 - Check length**\n",
    "\n",
    "```\n",
    "my_dict = {}\n",
    "if len(my_dict) == 0:\n",
    "    print(\"Dictionary is empty\")\n",
    "else:\n",
    "    print(\"Dictionary is not empty\")\n",
    "```\n",
    "\n",
    "**Approach 2: use in boolean context**\n",
    "\n",
    "```\n",
    "my_dict = {}\n",
    "if not my_dict:\n",
    "    print(\"Dictionary is empty\")\n",
    "else:\n",
    "    print(\"Dictionary is not empty\")\n",
    "\n",
    "```\n",
    "\n",
    "### Mutable objects **cannot** be used as dictionary keys because they are not hashable\n",
    "\n",
    "e.g. `list`.\n",
    "\n",
    "```\n",
    ">>> prevMap = {[1,2]: \"value\"}\n",
    "Traceback (most recent call last):\n",
    "  File \"<stdin>\", line 1, in <module>\n",
    "TypeError: unhashable type: 'list'\n",
    "```\n",
    "\n",
    "If you need to associate values with lists as keys, you can use tuples instead.\n",
    "Because tuples are immutable and can be hashed.\n",
    "You can refer to practial problem at [Group Anagrams](#listtupledefaultdict-group-anagrams):\n",
    "\n",
    "```\n",
    ">>> prevMap = {(1,2): \"value\"}\n",
    ">>> if (1, 2) in prevMap:\n",
    "...     print(\"Found\")\n",
    "... else:\n",
    "...     print(\"Not found\")\n",
    "...\n",
    "Found\n",
    "```\n",
    "\n",
    "### Can I use 'in' to check membership if I put a custom person object into a map?\n",
    "\n",
    "You can use `in` to check membership if you put a custom person object into a map, provided that the custom object properly implements the __eq__ and __hash__ methods."
   ]
  },
  {
   "cell_type": "code",
   "execution_count": 3,
   "metadata": {},
   "outputs": [
    {
     "name": "stdout",
     "output_type": "stream",
     "text": [
      "True\n",
      "True\n"
     ]
    }
   ],
   "source": [
    "class Person:\n",
    "    def __init__(self, name, age):\n",
    "        self.name = name\n",
    "        self.age = age\n",
    "\n",
    "    def __eq__(self, other):\n",
    "        return self.name == other.name and self.age == other.age\n",
    "\n",
    "    def __hash__(self):\n",
    "        return hash((self.name, self.age))\n",
    "\n",
    "# Create instances of the Person class\n",
    "person1 = Person(\"Alice\", 30)\n",
    "person2 = Person(\"Bob\", 25)\n",
    "person3 = Person(\"Alice\", 30)\n",
    "\n",
    "# Create a map and add Person objects as keys\n",
    "people_map = {person1: \"Engineer\", person2: \"Doctor\"}\n",
    "\n",
    "# Check membership using 'in'\n",
    "print(person1 in people_map)  # Output: True\n",
    "print(person3 in people_map)  # Output: True, since person1 and person3 are logically equivalent\n",
    "\n",
    "# If __eq__ and __hash__ methods were not implemented properly, it would output False\n"
   ]
  },
  {
   "cell_type": "markdown",
   "metadata": {},
   "source": [
    "## List\n",
    "\n",
    "### Initialize list before accessing it if not using append or [defaultdict](#defaultdict)\n",
    "\n",
    "Otherwise you might hit `IndexError: list index out of range`.\n"
   ]
  },
  {
   "cell_type": "code",
   "execution_count": 4,
   "metadata": {},
   "outputs": [],
   "source": [
    "# Wrong code:\n",
    "# n = 3\n",
    "# res = []\n",
    "# i = 0\n",
    "# while i <= n:\n",
    "#     res[i] += 1\n",
    "\n",
    "# Correct code:\n",
    "n = 3\n",
    "res = [0] * n\n",
    "i = 0\n",
    "while i < n:\n",
    "    res[i] += 1\n",
    "    i += 1"
   ]
  },
  {
   "cell_type": "markdown",
   "metadata": {},
   "source": [
    "Using defaultdict:"
   ]
  },
  {
   "cell_type": "code",
   "execution_count": 5,
   "metadata": {},
   "outputs": [],
   "source": [
    "from collections import defaultdict\n",
    "\n",
    "n = 3\n",
    "res = defaultdict(int)  # Initialize defaultdict with int, so default value is 0\n",
    "i = 0\n",
    "while i <= n:\n",
    "    res[i] += 1\n",
    "    i += 1"
   ]
  },
  {
   "cell_type": "markdown",
   "metadata": {},
   "source": [
    "## Types from collections\n",
    "\n",
    "### namedtuple\n"
   ]
  },
  {
   "cell_type": "code",
   "execution_count": 6,
   "metadata": {},
   "outputs": [
    {
     "name": "stdout",
     "output_type": "stream",
     "text": [
      "11 22\n",
      "Alice 30 New York\n",
      "Bob 30 New York\n"
     ]
    }
   ],
   "source": [
    "from collections import namedtuple\n",
    "\n",
    "Point = namedtuple('Point', ['x', 'y'])\n",
    "p = Point(11, 22)\n",
    "print(p.x, p.y)  # Output: 11 22\n",
    "\n",
    "Person = namedtuple('P', ['name', 'age', 'city']) # The 'P' doesn't have to be same as 'Person'\n",
    "person1 = Person(name='Alice', age=30, city='New York')\n",
    "print(person1.name, person1.age, person1.city)\n",
    "\n",
    "# Change the person's name\n",
    "# Keep in mind that while _replace() provides a convenient way to create a new instance with updated values, \n",
    "# it does not modify the original instance. \n",
    "# If you need mutability, you might consider using a regular class instead of a named tuple.\n",
    "person1 = person1._replace(name='Bob')\n",
    "\n",
    "# Print the updated person\n",
    "print(person1.name, person1.age, person1.city)"
   ]
  },
  {
   "cell_type": "markdown",
   "metadata": {},
   "source": [
    "### defaultdict"
   ]
  },
  {
   "cell_type": "code",
   "execution_count": 7,
   "metadata": {},
   "outputs": [
    {
     "name": "stdout",
     "output_type": "stream",
     "text": [
      "defaultdict(<class 'list'>, {'a': [1, 2], 'b': [3]})\n"
     ]
    }
   ],
   "source": [
    "from collections import defaultdict\n",
    "\n",
    "d = defaultdict(list)\n",
    "d['a'].append(1)\n",
    "d['a'].append(2)\n",
    "d['b'].append(3)\n",
    "print(d)\n",
    "# Output: defaultdict(<class 'list'>, {'a': [1, 2], 'b': [3]})"
   ]
  },
  {
   "cell_type": "code",
   "execution_count": 8,
   "metadata": {},
   "outputs": [
    {
     "name": "stdout",
     "output_type": "stream",
     "text": [
      "defaultdict(<class 'list'>, {'a': ['apple', 'apricot'], 'b': ['banana', 'blueberry'], 'c': ['cherry']})\n"
     ]
    }
   ],
   "source": [
    "# Example in a Practical Context\n",
    "from collections import defaultdict\n",
    "\n",
    "words = [\"apple\", \"banana\", \"apricot\", \"blueberry\", \"cherry\"]\n",
    "categorized_words = defaultdict(list)\n",
    "\n",
    "for word in words:\n",
    "    first_letter = word[0]\n",
    "    categorized_words[first_letter].append(word)\n",
    "\n",
    "print(categorized_words)\n",
    "# Output: defaultdict(<class 'list'>, {'a': ['apple', 'apricot'], 'b': ['banana', 'blueberry'], 'c': ['cherry']})"
   ]
  },
  {
   "cell_type": "markdown",
   "metadata": {},
   "source": [
    "In this example:\n",
    "\n",
    "1. `categorized_words` is a defaultdict where each key is a letter, and each value is a list of words starting with that letter.\n",
    "2. The append operation adds words to the appropriate lists without needing to check if the key already exists."
   ]
  },
  {
   "cell_type": "markdown",
   "metadata": {},
   "source": [
    "### OrderedDict"
   ]
  },
  {
   "cell_type": "markdown",
   "metadata": {},
   "source": [
    "### deque"
   ]
  },
  {
   "cell_type": "markdown",
   "metadata": {},
   "source": [
    "### Counter"
   ]
  },
  {
   "cell_type": "markdown",
   "metadata": {},
   "source": [
    "### ChainMap"
   ]
  },
  {
   "cell_type": "markdown",
   "metadata": {},
   "source": [
    "# Code Snippets\n",
    "\n",
    "## Enumerate"
   ]
  },
  {
   "cell_type": "code",
   "execution_count": 9,
   "metadata": {},
   "outputs": [
    {
     "name": "stdout",
     "output_type": "stream",
     "text": [
      "Index: 0 -> Value: 1\n",
      "Index: 1 -> Value: 2\n",
      "1 apple\n",
      "2 banana\n",
      "3 cherry\n"
     ]
    }
   ],
   "source": [
    "nums = [1, 2]\n",
    "for i, v in enumerate(nums):\n",
    "    print(f\"Index: {i} -> Value: {v}\")\n",
    "    \n",
    "fruits = [\"apple\", \"banana\", \"cherry\"]\n",
    "# Using enumerate with a start index of 1\n",
    "for index, value in enumerate(fruits, start=1):\n",
    "    print(index, value)\n"
   ]
  },
  {
   "cell_type": "markdown",
   "metadata": {},
   "source": [
    "## Sort string"
   ]
  },
  {
   "cell_type": "code",
   "execution_count": 10,
   "metadata": {},
   "outputs": [
    {
     "name": "stdout",
     "output_type": "stream",
     "text": [
      "Sorted string in asending order:  aaccerr\n",
      "Sorted string in desending order: rreccaa\n"
     ]
    }
   ],
   "source": [
    "# Sort string by converting to list\n",
    "s = 'racecar'\n",
    "print(\"Sorted string in asending order:  \" + \"\".join(sorted(s))) # Output: aaccerr\n",
    "\n",
    "print(\"Sorted string in desending order: \" + \"\".join(sorted(s, reverse = True))) # Output: aaccerr"
   ]
  },
  {
   "cell_type": "markdown",
   "metadata": {},
   "source": [
    "## Generator\n"
   ]
  },
  {
   "cell_type": "markdown",
   "metadata": {},
   "source": [
    "## Iterator"
   ]
  },
  {
   "cell_type": "markdown",
   "metadata": {},
   "source": [
    "# Algorithm/Methodologies Relevant Notes\n",
    "\n",
    "## Two Pointers\n",
    "\n",
    "```\n",
    "l, r = <inital values>\n",
    "\n",
    "while l < r:\n",
    "    while <condition>\n",
    "        udpate l\n",
    "    while <condition>\n",
    "        update r\n",
    "    update l, r\n",
    "```"
   ]
  },
  {
   "cell_type": "markdown",
   "metadata": {},
   "source": [
    "## DP\n",
    "\n",
    "1. Found the formula\n",
    "2. Initialize the dp array"
   ]
  },
  {
   "cell_type": "markdown",
   "metadata": {},
   "source": [
    "# Easy\n",
    "\n",
    "## Two Sum\n",
    "\n"
   ]
  },
  {
   "cell_type": "code",
   "execution_count": 11,
   "metadata": {},
   "outputs": [],
   "source": [
    "from typing import List\n",
    "\n",
    "class Solution:\n",
    "    def twoSum(self, nums: List[int], target: int) -> List[int]:\n",
    "        prevMap = {}\n",
    "\n",
    "        for i, v in enumerate(nums):\n",
    "            diff = target - v\n",
    "            print(f\"{prevMap}\")\n",
    "            if diff in prevMap:\n",
    "                return [prevMap[diff], i]\n",
    "            prevMap[v] = i"
   ]
  },
  {
   "cell_type": "markdown",
   "metadata": {},
   "source": [
    "## Is Palindrome\n"
   ]
  },
  {
   "cell_type": "code",
   "execution_count": 12,
   "metadata": {},
   "outputs": [
    {
     "name": "stdout",
     "output_type": "stream",
     "text": [
      "Passed - Expected: True. Input: s='A man, a plan, a canal: Panama'. Output: True.\n",
      "Passed - Expected: False. Input: s='race a car'. Output: False.\n",
      "Passed - Expected: True. Input: s='level'. Output: True.\n",
      "Passed - Expected: False. Input: s='hello'. Output: False.\n",
      "Passed - Expected: True. Input: s='Able was I, ere I saw Elba'. Output: True.\n"
     ]
    }
   ],
   "source": [
    "class Solution:  # noqa: F811\n",
    "    def isPalindrome(self, s: str) -> bool:\n",
    "        left, right = 0, len(s) - 1\n",
    "        while left < right:\n",
    "            while left < right and not self.isAlphaNum(s[left]):\n",
    "                left += 1\n",
    "            while right > left and not self.isAlphaNum(s[right]):\n",
    "                right -= 1\n",
    "            if s[left].lower() != s[right].lower():\n",
    "                return False\n",
    "            left += 1\n",
    "            right -= 1        \n",
    "        return True\n",
    "\n",
    "    def isAlphaNum(self, c) -> bool:\n",
    "        return (ord('A') <= ord(c) <= ord('Z') or \n",
    "            ord('a') <= ord(c) <= ord('z') or \n",
    "            ord('0') <= ord(c) <= ord('9'))\n",
    "\n",
    "# Test cases\n",
    "test_cases = [\n",
    "    (\"A man, a plan, a canal: Panama\", True),  # Example 1: Palindrome\n",
    "    (\"race a car\", False),                     # Example 2: Not Palindrome\n",
    "    (\"level\", True),                            # Additional test case: Palindrome\n",
    "    (\"hello\", False),                           # Additional test case: Not Palindrome\n",
    "    (\"Able was I, ere I saw Elba\", True)       # Additional test case: Palindrome\n",
    "]\n",
    "\n",
    "solution = Solution()\n",
    "\n",
    "for s, expected in test_cases:\n",
    "    result01 = solution.isPalindrome(s)\n",
    "    print(f\"{'Passed' if result01 == expected else 'Failed'} - Expected: {expected}. Input: s='{s}'. Output: {result01}.\")\n"
   ]
  },
  {
   "cell_type": "markdown",
   "metadata": {},
   "source": [
    "## Is Anagram"
   ]
  },
  {
   "cell_type": "code",
   "execution_count": 13,
   "metadata": {},
   "outputs": [
    {
     "name": "stdout",
     "output_type": "stream",
     "text": [
      "Passed - Expected: True. Input: s='anagram', t='nagaram'. Output: True. \n",
      "Passed - Expected: False. Input: s='rat', t='car'. Output: False. \n",
      "Passed - Expected: True. Input: s='listen', t='silent'. Output: True. \n",
      "Passed - Expected: True. Input: s='python', t='typhon'. Output: True. \n",
      "Passed - Expected: False. Input: s='hello', t='world'. Output: False. \n"
     ]
    }
   ],
   "source": [
    "class Solution:\n",
    "    def isAnagram(self, s: str, t: str) -> bool:\n",
    "        if len(s) != len(t):\n",
    "            return False\n",
    "        \n",
    "        # Use dictionaries to count character frequencies\n",
    "        count_s, count_t = {}, {}\n",
    "        \n",
    "        for char in s:\n",
    "            count_s[char] = count_s.get(char, 0) + 1\n",
    "        \n",
    "        for char in t:\n",
    "            count_t[char] = count_t.get(char, 0) + 1\n",
    "        \n",
    "        return count_s == count_t\n",
    "\n",
    "# Test cases\n",
    "test_cases = [\n",
    "    (\"anagram\", \"nagaram\", True),   # Example 1: Anagrams\n",
    "    (\"rat\", \"car\", False),          # Example 2: Not Anagrams\n",
    "    (\"listen\", \"silent\", True),     # Additional test case: Anagrams\n",
    "    (\"python\", \"typhon\", True),     # Additional test case: Anagrams\n",
    "    (\"hello\", \"world\", False)       # Example 5: Not Anagrams\n",
    "]\n",
    "\n",
    "solution = Solution()\n",
    "\n",
    "for s, t, expected in test_cases:\n",
    "    result01 = solution.isAnagram(s, t)\n",
    "    print(f\"{'Passed' if result01 == expected else 'Failed'} - Expected: {expected}. Input: s='{s}', t='{t}'. Output: {result01}. \")\n",
    "\n"
   ]
  },
  {
   "cell_type": "markdown",
   "metadata": {},
   "source": [
    "## Validate Parentheses"
   ]
  },
  {
   "cell_type": "code",
   "execution_count": 14,
   "metadata": {},
   "outputs": [
    {
     "name": "stderr",
     "output_type": "stream",
     "text": [
      "test_valid_parentheses (__main__.TestValidParenthesesSolution.test_valid_parentheses) ... "
     ]
    },
    {
     "name": "stderr",
     "output_type": "stream",
     "text": [
      "ok\n",
      "\n",
      "----------------------------------------------------------------------\n",
      "Ran 1 test in 0.007s\n",
      "\n",
      "OK\n"
     ]
    },
    {
     "data": {
      "text/plain": [
       "<unittest.runner.TextTestResult run=1 errors=0 failures=0>"
      ]
     },
     "execution_count": 14,
     "metadata": {},
     "output_type": "execute_result"
    }
   ],
   "source": [
    "import unittest\n",
    "\n",
    "class ValidParenthesesSolution:\n",
    "    def isValid(self, s: str) -> bool:\n",
    "        Map = {\")\": \"(\", \"]\": \"[\", \"}\": \"{\"}\n",
    "        stack = []\n",
    "\n",
    "        for c in s:\n",
    "            if c not in Map:\n",
    "                stack.append(c)\n",
    "                continue\n",
    "            if not stack or stack[-1] != Map[c]:\n",
    "                return False\n",
    "            stack.pop()\n",
    "\n",
    "        return not stack\n",
    "\n",
    "class TestValidParenthesesSolution(unittest.TestCase):\n",
    "    def setUp(self):\n",
    "        self.solution = ValidParenthesesSolution()\n",
    "\n",
    "    def test_valid_parentheses(self):\n",
    "        # Test case with valid parentheses\n",
    "        self.assertTrue(self.solution.isValid(\"()\"))\n",
    "        self.assertTrue(self.solution.isValid(\"()[]{}\"))\n",
    "        self.assertTrue(self.solution.isValid(\"{[]}\"))\n",
    "        \n",
    "        # Test case with invalid parentheses\n",
    "        self.assertFalse(self.solution.isValid(\"(]\"))\n",
    "        self.assertFalse(self.solution.isValid(\"([)]\"))\n",
    "        self.assertFalse(self.solution.isValid(\"{[}\"))\n",
    "        \n",
    "        # Test case with empty string\n",
    "        self.assertTrue(self.solution.isValid(\"\"))\n",
    "        \n",
    "        # Test case with single opening parenthesis\n",
    "        self.assertFalse(self.solution.isValid(\"(\"))\n",
    "        \n",
    "        # Test case with single closing parenthesis\n",
    "        self.assertFalse(self.solution.isValid(\")\"))\n",
    "\n",
    "suite = unittest.TestLoader().loadTestsFromTestCase(TestValidParenthesesSolution)\n",
    "unittest.TextTestRunner(verbosity=2).run(suite)\n"
   ]
  },
  {
   "cell_type": "markdown",
   "metadata": {},
   "source": [
    "## Duplicate Integer"
   ]
  },
  {
   "cell_type": "code",
   "execution_count": 15,
   "metadata": {},
   "outputs": [
    {
     "name": "stderr",
     "output_type": "stream",
     "text": [
      "test_has_duplicate (__main__.TestDupIntegerSolution.test_has_duplicate) ... ok\n",
      "\n",
      "----------------------------------------------------------------------\n",
      "Ran 1 test in 0.003s\n",
      "\n",
      "OK\n"
     ]
    },
    {
     "data": {
      "text/plain": [
       "<unittest.runner.TextTestResult run=1 errors=0 failures=0>"
      ]
     },
     "execution_count": 15,
     "metadata": {},
     "output_type": "execute_result"
    }
   ],
   "source": [
    "from typing import List\n",
    "import unittest\n",
    "\n",
    "class DupIntegerSolution:\n",
    "    def hasDuplicate(self, nums: List[int]) -> bool:\n",
    "        hm = {}\n",
    "        for i in range(len(nums)):\n",
    "            if hm.get(nums[i], 0) == 0:\n",
    "                hm[nums[i]] = 1\n",
    "            else:\n",
    "                return True\n",
    "        \n",
    "        return False\n",
    "\n",
    "class TestDupIntegerSolution(unittest.TestCase):\n",
    "    def setUp(self):\n",
    "        self.solution = DupIntegerSolution()\n",
    "\n",
    "    def test_has_duplicate(self):\n",
    "        # Test case with no duplicates\n",
    "        self.assertFalse(self.solution.hasDuplicate([1, 2, 3, 4, 5]))\n",
    "\n",
    "        # Test case with duplicates\n",
    "        self.assertTrue(self.solution.hasDuplicate([1, 2, 3, 4, 5, 1]))\n",
    "\n",
    "        # Test case with an empty list\n",
    "        self.assertFalse(self.solution.hasDuplicate([]))\n",
    "\n",
    "        # Test case with a single element\n",
    "        self.assertFalse(self.solution.hasDuplicate([1]))\n",
    "\n",
    "        # Test case with multiple duplicates\n",
    "        self.assertTrue(self.solution.hasDuplicate([1, 2, 3, 4, 5, 1, 2, 3, 4, 5]))\n",
    "\n",
    "suite = unittest.TestLoader().loadTestsFromTestCase(TestDupIntegerSolution)\n",
    "unittest.TextTestRunner(verbosity=2).run(suite)\n"
   ]
  },
  {
   "cell_type": "markdown",
   "metadata": {},
   "source": [
    "## (Bit) Single Number"
   ]
  },
  {
   "cell_type": "code",
   "execution_count": 16,
   "metadata": {},
   "outputs": [
    {
     "name": "stderr",
     "output_type": "stream",
     "text": [
      "test_singleNumber (__main__.TestSingleNumberSolution.test_singleNumber) ... ok\n",
      "\n",
      "----------------------------------------------------------------------\n",
      "Ran 1 test in 0.002s\n",
      "\n",
      "OK\n"
     ]
    },
    {
     "name": "stdout",
     "output_type": "stream",
     "text": [
      "Expected result for nums1: 4\n",
      "Actual result for nums1: 4\n",
      "Expected result for nums2: 1\n",
      "Actual result for nums2: 1\n",
      "Expected result for nums3: 2\n",
      "Actual result for nums3: 2\n"
     ]
    },
    {
     "data": {
      "text/plain": [
       "<unittest.runner.TextTestResult run=1 errors=0 failures=0>"
      ]
     },
     "execution_count": 16,
     "metadata": {},
     "output_type": "execute_result"
    }
   ],
   "source": [
    "class SingleNumberSolution:\n",
    "    def singleNumber(self, nums: List[int]) -> int:\n",
    "        res = 0\n",
    "        for i in nums:\n",
    "            res = i ^ res\n",
    "        \n",
    "        return res\n",
    "\n",
    "class TestSingleNumberSolution(unittest.TestCase):\n",
    "    def setUp(self):\n",
    "        self.solution = SingleNumberSolution()\n",
    "\n",
    "    def test_singleNumber(self):\n",
    "        # Test case where the single number is in the middle\n",
    "        nums1 = [4, 1, 2, 1, 2]\n",
    "        expected1 = 4\n",
    "        result1 = self.solution.singleNumber(nums1)\n",
    "        print(\"Expected result for nums1:\", expected1)\n",
    "        print(\"Actual result for nums1:\", result1)\n",
    "        self.assertEqual(result1, expected1)\n",
    "\n",
    "        # Test case where the single number is at the beginning\n",
    "        nums2 = [2, 2, 1]\n",
    "        expected2 = 1\n",
    "        result2 = self.solution.singleNumber(nums2)\n",
    "        print(\"Expected result for nums2:\", expected2)\n",
    "        print(\"Actual result for nums2:\", result2)\n",
    "        self.assertEqual(result2, expected2)\n",
    "\n",
    "        # Test case where the single number is at the end\n",
    "        nums3 = [1, 3, 1, 3, 2]\n",
    "        expected3 = 2\n",
    "        result3 = self.solution.singleNumber(nums3)\n",
    "        print(\"Expected result for nums3:\", expected3)\n",
    "        print(\"Actual result for nums3:\", result3)\n",
    "        self.assertEqual(result3, expected3)\n",
    "\n",
    "suite = unittest.TestLoader().loadTestsFromTestCase(TestSingleNumberSolution)\n",
    "unittest.TextTestRunner(verbosity=2).run(suite)\n"
   ]
  },
  {
   "cell_type": "markdown",
   "metadata": {},
   "source": [
    "## (Bit) Number of 1 Bits"
   ]
  },
  {
   "cell_type": "code",
   "execution_count": 17,
   "metadata": {},
   "outputs": [
    {
     "name": "stderr",
     "output_type": "stream",
     "text": [
      "test_hammingWeight (__main__.TestHammingWeightSolution.test_hammingWeight) ... ok\n",
      "\n",
      "----------------------------------------------------------------------\n",
      "Ran 1 test in 0.002s\n",
      "\n",
      "OK\n"
     ]
    },
    {
     "name": "stdout",
     "output_type": "stream",
     "text": [
      "Expected result for nums1: 0\n",
      "Actual result for nums1: 0\n",
      "Expected result for nums1: 31\n",
      "Actual result for nums1: 31\n",
      "Expected result for nums1: 16\n",
      "Actual result for nums1: 16\n"
     ]
    },
    {
     "data": {
      "text/plain": [
       "<unittest.runner.TextTestResult run=1 errors=0 failures=0>"
      ]
     },
     "execution_count": 17,
     "metadata": {},
     "output_type": "execute_result"
    }
   ],
   "source": [
    "class HammingWeightSolution:\n",
    "    def hammingWeight(self, n: int) -> int:\n",
    "        if n ==0: return 0\n",
    "        count = 0\n",
    "        while n:\n",
    "            count += n % 2\n",
    "            n = n >> 1\n",
    "        return count\n",
    "\n",
    "class TestHammingWeightSolution(unittest.TestCase):  # noqa: F811\n",
    "    def setUp(self):\n",
    "        self.solution = HammingWeightSolution()\n",
    "\n",
    "    def test_hammingWeight(self):\n",
    "        # Test case where n is 0\n",
    "        n1 = 0\n",
    "        expected1 = 0\n",
    "        result1 = self.solution.hammingWeight(n1)\n",
    "        print(\"Expected result for nums1:\", expected1)\n",
    "        print(\"Actual result for nums1:\", result1)\n",
    "        self.assertEqual(result1, expected1)\n",
    "\n",
    "        # Test case where n has all bits set to 1\n",
    "        n2 = 0b11111111111111111111111111111101\n",
    "        expected2 = 31\n",
    "        result2 = self.solution.hammingWeight(n2)\n",
    "        print(\"Expected result for nums1:\", expected2)\n",
    "        print(\"Actual result for nums1:\", result2)\n",
    "        self.assertEqual(result2, expected2)\n",
    "\n",
    "        # Test case where n has alternating 1s and 0s\n",
    "        n3 = 0b10101010101010101010101010101010\n",
    "        expected3 = 16\n",
    "        result3 = self.solution.hammingWeight(n3)\n",
    "        print(\"Expected result for nums1:\", expected3)\n",
    "        print(\"Actual result for nums1:\", result3)\n",
    "        self.assertEqual(result3, expected3)\n",
    "\n",
    "suite = unittest.TestLoader().loadTestsFromTestCase(TestHammingWeightSolution)\n",
    "unittest.TextTestRunner(verbosity=2).run(suite)\n"
   ]
  },
  {
   "cell_type": "markdown",
   "metadata": {},
   "source": [
    "## (Bit)(DP) Counting Bits"
   ]
  },
  {
   "cell_type": "code",
   "execution_count": 18,
   "metadata": {},
   "outputs": [
    {
     "name": "stderr",
     "output_type": "stream",
     "text": [
      "test_countBits (__main__.TestCountBitSolution.test_countBits) ... ok\n",
      "\n",
      "----------------------------------------------------------------------\n",
      "Ran 1 test in 0.002s\n",
      "\n",
      "OK\n"
     ]
    },
    {
     "data": {
      "text/plain": [
       "<unittest.runner.TextTestResult run=1 errors=0 failures=0>"
      ]
     },
     "execution_count": 18,
     "metadata": {},
     "output_type": "execute_result"
    }
   ],
   "source": [
    "class CountBitSolution:\n",
    "    def countBits(self, n: int) -> List[int]:\n",
    "        dp = [0] * (n + 1)\n",
    "        offset = 1\n",
    "\n",
    "        for i in range(1, n + 1):\n",
    "            if offset * 2 == i:\n",
    "                offset = i\n",
    "            dp[i] = 1 + dp[i - offset]\n",
    "        return dp\n",
    "\n",
    "class TestCountBitSolution(unittest.TestCase):  # noqa: F811\n",
    "    def setUp(self):\n",
    "        self.solution = CountBitSolution()\n",
    "\n",
    "    def test_countBits(self):\n",
    "        # Test case where n is 0\n",
    "        n1 = 0\n",
    "        expected1 = [0]\n",
    "        result1 = self.solution.countBits(n1)\n",
    "        self.assertEqual(result1, expected1)\n",
    "\n",
    "        # Test case where n is 2\n",
    "        n2 = 2\n",
    "        expected2 = [0, 1, 1]\n",
    "        result2 = self.solution.countBits(n2)\n",
    "        self.assertEqual(result2, expected2)\n",
    "\n",
    "        # Test case where n is 5\n",
    "        n3 = 5\n",
    "        expected3 = [0, 1, 1, 2, 1, 2]\n",
    "        result3 = self.solution.countBits(n3)\n",
    "        self.assertEqual(result3, expected3)\n",
    "\n",
    "        # Test case where n is 10\n",
    "        n4 = 10\n",
    "        expected4 = [0, 1, 1, 2, 1, 2, 2, 3, 1, 2, 2]\n",
    "        result4 = self.solution.countBits(n4)\n",
    "        self.assertEqual(result4, expected4)\n",
    "\n",
    "suite = unittest.TestLoader().loadTestsFromTestCase(TestCountBitSolution)\n",
    "unittest.TextTestRunner(verbosity=2).run(suite)"
   ]
  },
  {
   "cell_type": "markdown",
   "metadata": {},
   "source": [
    "# Medium"
   ]
  },
  {
   "cell_type": "markdown",
   "metadata": {},
   "source": [
    "## (List)(Tuple)(defaultdict) Group Anagrams\n",
    "\n",
    "This is creative! Using a tuple of all 26 characters as the key!"
   ]
  },
  {
   "cell_type": "code",
   "execution_count": 19,
   "metadata": {},
   "outputs": [
    {
     "name": "stderr",
     "output_type": "stream",
     "text": [
      "test_group_anagrams (__main__.TestGroupAnagramsSolution.test_group_anagrams) ... ok\n",
      "\n",
      "----------------------------------------------------------------------\n",
      "Ran 1 test in 0.003s\n",
      "\n",
      "OK\n"
     ]
    },
    {
     "data": {
      "text/plain": [
       "<unittest.runner.TextTestResult run=1 errors=0 failures=0>"
      ]
     },
     "execution_count": 19,
     "metadata": {},
     "output_type": "execute_result"
    }
   ],
   "source": [
    "class GroupAnagramsSolution:\n",
    "    def groupAnagrams(self, strs: List[str]) -> List[List[str]]:\n",
    "        ans = defaultdict(list)\n",
    "        \n",
    "        for s in strs:\n",
    "            count = [0] * 26\n",
    "            for c in s:\n",
    "                count[ord(c) - ord(\"a\")] += 1\n",
    "            ans[tuple(count)].append(s)\n",
    "        return list(ans.values())\n",
    "\n",
    "class TestGroupAnagramsSolution(unittest.TestCase):  # noqa: F811\n",
    "    def setUp(self):\n",
    "        self.solution = GroupAnagramsSolution()\n",
    "\n",
    "    def test_group_anagrams(self):\n",
    "        # Test case 1\n",
    "        input_data = [\"eat\", \"tea\", \"tan\", \"ate\", \"nat\", \"bat\"]\n",
    "        expected_output = [\n",
    "            [\"eat\", \"tea\", \"ate\"],\n",
    "            [\"tan\", \"nat\"],\n",
    "            [\"bat\"]\n",
    "        ]\n",
    "        result = self.solution.groupAnagrams(input_data)\n",
    "        # Sorting the inner lists and the outer list for comparison\n",
    "        result = [sorted(group) for group in result]\n",
    "        expected_output = [sorted(group) for group in expected_output]\n",
    "        self.assertEqual(sorted(result), sorted(expected_output))\n",
    "\n",
    "        # Test case 2\n",
    "        input_data = [\"\"]\n",
    "        expected_output = [[\"\"]]\n",
    "        result = self.solution.groupAnagrams(input_data)\n",
    "        self.assertEqual(result, expected_output)\n",
    "\n",
    "        # Test case 3\n",
    "        input_data = [\"a\"]\n",
    "        expected_output = [[\"a\"]]\n",
    "        result = self.solution.groupAnagrams(input_data)\n",
    "        self.assertEqual(result, expected_output)\n",
    "\n",
    "suite = unittest.TestLoader().loadTestsFromTestCase(TestGroupAnagramsSolution)\n",
    "unittest.TextTestRunner(verbosity=2).run(suite)"
   ]
  },
  {
   "cell_type": "markdown",
   "metadata": {},
   "source": [
    "## Top K Elements in List\n",
    "\n",
    "1. Initializing list of list\n",
    "2. Using Bucket sort.\n",
    "\n",
    "**Bucket Sort:**\n",
    "\n",
    "Linear time complexity O(n) and space complexity O(n)."
   ]
  },
  {
   "cell_type": "code",
   "execution_count": 20,
   "metadata": {},
   "outputs": [
    {
     "name": "stderr",
     "output_type": "stream",
     "text": [
      "test_top_k_frequent (__main__.TestTopKFrequentSolution.test_top_k_frequent) ... ok\n",
      "\n",
      "----------------------------------------------------------------------\n",
      "Ran 1 test in 0.002s\n",
      "\n",
      "OK\n"
     ]
    },
    {
     "data": {
      "text/plain": [
       "<unittest.runner.TextTestResult run=1 errors=0 failures=0>"
      ]
     },
     "execution_count": 20,
     "metadata": {},
     "output_type": "execute_result"
    }
   ],
   "source": [
    "class TopKFrequentSolution:\n",
    "    def topKFrequent(self, nums: List[int], k: int) -> List[int]:\n",
    "        count = {}\n",
    "        # 1. freq is a list where each element is an empty list, serving as the bucket!\n",
    "        # 2. The number of elements (empty lists) in freq is len(nums) + 1.\n",
    "        # 3. Each index in freq directly corresponds to a frequency count, i.e., freq[i] holds elements that appear exactly i times.\n",
    "        freq = [[] for i in range(len(nums) + 1)]\n",
    "\n",
    "        for n in nums:\n",
    "            count[n] = 1 + count.get(n, 0)\n",
    "        for n, c in count.items():\n",
    "            freq[c].append(n)\n",
    "\n",
    "        res = []\n",
    "        for i in range(len(freq) - 1, 0, -1):\n",
    "            for n in freq[i]:\n",
    "                res.append(n)\n",
    "                if len(res) == k:\n",
    "                    return res\n",
    "\n",
    "class TestTopKFrequentSolution(unittest.TestCase):  # noqa: F811\n",
    "    def setUp(self):\n",
    "        self.solution = TopKFrequentSolution()\n",
    "\n",
    "    def test_top_k_frequent(self):\n",
    "        # Test case 1: General case with multiple elements\n",
    "        nums = [1, 1, 1, 2, 2, 3]\n",
    "        k = 2\n",
    "        expected_output = [1, 2]\n",
    "        result = self.solution.topKFrequent(nums, k)\n",
    "        self.assertEqual(sorted(result), sorted(expected_output))\n",
    "\n",
    "        # Test case 2: Single element repeated\n",
    "        nums = [1]\n",
    "        k = 1\n",
    "        expected_output = [1]\n",
    "        result = self.solution.topKFrequent(nums, k)\n",
    "        self.assertEqual(result, expected_output)\n",
    "\n",
    "        # Test case 3: All elements are unique\n",
    "        nums = [1, 2, 3, 4, 5]\n",
    "        k = 3\n",
    "        expected_output = [1, 2, 3, 4, 5]\n",
    "        result = self.solution.topKFrequent(nums, k)\n",
    "        self.assertTrue(set(result).issubset(set(expected_output)))\n",
    "\n",
    "        # Test case 4: Multiple elements with same frequency\n",
    "        nums = [1, 2, 2, 3, 3, 4, 4]\n",
    "        k = 2\n",
    "        expected_output = [2, 3, 4]  # Any two of these three\n",
    "        result = self.solution.topKFrequent(nums, k)\n",
    "        self.assertTrue(len(result) == k and set(result).issubset(set(expected_output)))\n",
    "\n",
    "        # Test case 5: Large k value\n",
    "        nums = [1, 1, 1, 2, 2, 3, 4]\n",
    "        k = 4\n",
    "        expected_output = [1, 2, 3, 4]\n",
    "        result = self.solution.topKFrequent(nums, k)\n",
    "        self.assertEqual(sorted(result), sorted(expected_output))\n",
    "\n",
    "suite = unittest.TestLoader().loadTestsFromTestCase(TestTopKFrequentSolution)\n",
    "unittest.TextTestRunner(verbosity=2).run(suite)"
   ]
  },
  {
   "cell_type": "markdown",
   "metadata": {},
   "source": [
    "# Difficult"
   ]
  },
  {
   "cell_type": "markdown",
   "metadata": {},
   "source": [
    "# Quick References"
   ]
  },
  {
   "cell_type": "markdown",
   "metadata": {},
   "source": [
    "# Links"
   ]
  },
  {
   "cell_type": "markdown",
   "metadata": {},
   "source": [
    "# Q/A"
   ]
  },
  {
   "cell_type": "markdown",
   "metadata": {},
   "source": [
    "# Appendix\n",
    "\n",
    "1. [Bucket Sort](#top-k-elements-in-list)"
   ]
  }
 ],
 "metadata": {
  "kernelspec": {
   "display_name": "guanjia",
   "language": "python",
   "name": "python3"
  },
  "language_info": {
   "codemirror_mode": {
    "name": "ipython",
    "version": 3
   },
   "file_extension": ".py",
   "mimetype": "text/x-python",
   "name": "python",
   "nbconvert_exporter": "python",
   "pygments_lexer": "ipython3",
   "version": "3.11.8"
  }
 },
 "nbformat": 4,
 "nbformat_minor": 2
}
